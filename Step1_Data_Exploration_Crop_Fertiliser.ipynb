{
 "cells": [
  {
   "cell_type": "markdown",
   "id": "2828a4af",
   "metadata": {},
   "source": [
    "# Crop-Fertiliser Recommendation System\n",
    "\n",
    "### Step 1: Data Understanding & Initial Preprocessing\n",
    "This notebook covers:\n",
    "- Importing datasets\n",
    "- Viewing basic structure and records\n",
    "- Checking for missing values and duplicates\n",
    "- Summary statistics"
   ]
  },
  {
   "cell_type": "code",
   "execution_count": 1,
   "id": "124c56f8",
   "metadata": {},
   "outputs": [],
   "source": [
    "import pandas as pd\n",
    "import numpy as np"
   ]
  },
  {
   "cell_type": "code",
   "execution_count": 5,
   "id": "59bca486",
   "metadata": {},
   "outputs": [],
   "source": [
    "# Load the crop and fertiliser datasets\n",
    "crop_df = pd.read_csv('crop.csv')\n",
    "fertiliser_df = pd.read_csv('fertiliser.csv')"
   ]
  },
  {
   "cell_type": "code",
   "execution_count": 6,
   "id": "d1ad19ec",
   "metadata": {},
   "outputs": [
    {
     "name": "stdout",
     "output_type": "stream",
     "text": [
      "Crop Dataset:\n",
      "   Temperature  Humidity   Moisture Soil Type  Crop Type  Nitrogen  Potassium  \\\n",
      "0           26         52        38     Sandy      Maize        37          0   \n",
      "1           29         52        45     Loamy  Sugarcane        12          0   \n",
      "2           34         65        62     Black     Cotton         7          9   \n",
      "3           32         62        34       Red    Tobacco        22          0   \n",
      "4           28         54        46    Clayey      Paddy        35          0   \n",
      "\n",
      "   Phosphorous Fertilizer Name  \n",
      "0            0            Urea  \n",
      "1           36             DAP  \n",
      "2           30        14-35-14  \n",
      "3           20           28-28  \n",
      "4            0            Urea  \n",
      "\n",
      "Fertiliser Dataset:\n",
      "    N   P   K  Temperature   Humidity        Ph    Rainfall Label\n",
      "0  90  42  43    20.879744  82.002744  6.502985  202.935536  rice\n",
      "1  85  58  41    21.770462  80.319644  7.038096  226.655537  rice\n",
      "2  60  55  44    23.004459  82.320763  7.840207  263.964248  rice\n",
      "3  74  35  40    26.491096  80.158363  6.980401  242.864034  rice\n",
      "4  78  42  42    20.130175  81.604873  7.628473  262.717340  rice\n"
     ]
    }
   ],
   "source": [
    "# Display first 5 records\n",
    "print('Crop Dataset:')\n",
    "print(crop_df.head())\n",
    "\n",
    "print('\\nFertiliser Dataset:')\n",
    "print(fertiliser_df.head())"
   ]
  },
  {
   "cell_type": "code",
   "execution_count": 7,
   "id": "4cf7b7f4",
   "metadata": {},
   "outputs": [
    {
     "name": "stdout",
     "output_type": "stream",
     "text": [
      "Crop Dataset Info:\n",
      "<class 'pandas.core.frame.DataFrame'>\n",
      "RangeIndex: 99 entries, 0 to 98\n",
      "Data columns (total 9 columns):\n",
      " #   Column           Non-Null Count  Dtype \n",
      "---  ------           --------------  ----- \n",
      " 0   Temperature      99 non-null     int64 \n",
      " 1   Humidity         99 non-null     int64 \n",
      " 2   Moisture         99 non-null     int64 \n",
      " 3   Soil Type        99 non-null     object\n",
      " 4   Crop Type        99 non-null     object\n",
      " 5   Nitrogen         99 non-null     int64 \n",
      " 6   Potassium        99 non-null     int64 \n",
      " 7   Phosphorous      99 non-null     int64 \n",
      " 8   Fertilizer Name  99 non-null     object\n",
      "dtypes: int64(6), object(3)\n",
      "memory usage: 7.1+ KB\n",
      "None\n",
      "\n",
      "Fertiliser Dataset Info:\n",
      "<class 'pandas.core.frame.DataFrame'>\n",
      "RangeIndex: 2200 entries, 0 to 2199\n",
      "Data columns (total 8 columns):\n",
      " #   Column       Non-Null Count  Dtype  \n",
      "---  ------       --------------  -----  \n",
      " 0   N            2200 non-null   int64  \n",
      " 1   P            2200 non-null   int64  \n",
      " 2   K            2200 non-null   int64  \n",
      " 3   Temperature  2200 non-null   float64\n",
      " 4   Humidity     2200 non-null   float64\n",
      " 5   Ph           2200 non-null   float64\n",
      " 6   Rainfall     2200 non-null   float64\n",
      " 7   Label        2200 non-null   object \n",
      "dtypes: float64(4), int64(3), object(1)\n",
      "memory usage: 137.6+ KB\n",
      "None\n"
     ]
    }
   ],
   "source": [
    "# Dataset info\n",
    "print('Crop Dataset Info:')\n",
    "print(crop_df.info())\n",
    "\n",
    "print('\\nFertiliser Dataset Info:')\n",
    "print(fertiliser_df.info())"
   ]
  },
  {
   "cell_type": "code",
   "execution_count": 8,
   "id": "126521db",
   "metadata": {},
   "outputs": [
    {
     "name": "stdout",
     "output_type": "stream",
     "text": [
      "Missing values in crop dataset:\n",
      " Temperature        0\n",
      "Humidity           0\n",
      "Moisture           0\n",
      "Soil Type          0\n",
      "Crop Type          0\n",
      "Nitrogen           0\n",
      "Potassium          0\n",
      "Phosphorous        0\n",
      "Fertilizer Name    0\n",
      "dtype: int64\n",
      "\n",
      "Missing values in fertiliser dataset:\n",
      " N              0\n",
      "P              0\n",
      "K              0\n",
      "Temperature    0\n",
      "Humidity       0\n",
      "Ph             0\n",
      "Rainfall       0\n",
      "Label          0\n",
      "dtype: int64\n"
     ]
    }
   ],
   "source": [
    "# Check for missing values\n",
    "print('Missing values in crop dataset:\\n', crop_df.isnull().sum())\n",
    "print('\\nMissing values in fertiliser dataset:\\n', fertiliser_df.isnull().sum())"
   ]
  },
  {
   "cell_type": "code",
   "execution_count": 9,
   "id": "93ea9ac0",
   "metadata": {},
   "outputs": [
    {
     "name": "stdout",
     "output_type": "stream",
     "text": [
      "Duplicates in crop dataset: 0\n",
      "Duplicates in fertiliser dataset: 0\n"
     ]
    }
   ],
   "source": [
    "# Check for duplicates\n",
    "print('Duplicates in crop dataset:', crop_df.duplicated().sum())\n",
    "print('Duplicates in fertiliser dataset:', fertiliser_df.duplicated().sum())"
   ]
  },
  {
   "cell_type": "code",
   "execution_count": 10,
   "id": "4cff0367",
   "metadata": {},
   "outputs": [
    {
     "name": "stdout",
     "output_type": "stream",
     "text": [
      "Crop Dataset Description:\n",
      "        Temperature  Humidity    Moisture   Nitrogen  Potassium  Phosphorous\n",
      "count    99.000000  99.000000  99.000000  99.000000  99.000000    99.000000\n",
      "mean     30.282828  59.151515  43.181818  18.909091   3.383838    18.606061\n",
      "std       3.502304   5.840331  11.271568  11.599693   5.814667    13.476978\n",
      "min      25.000000  50.000000  25.000000   4.000000   0.000000     0.000000\n",
      "25%      28.000000  54.000000  34.000000  10.000000   0.000000     9.000000\n",
      "50%      30.000000  60.000000  41.000000  13.000000   0.000000    19.000000\n",
      "75%      33.000000  64.000000  50.500000  24.000000   7.500000    30.000000\n",
      "max      38.000000  72.000000  65.000000  42.000000  19.000000    42.000000\n",
      "\n",
      "Fertiliser Dataset Description:\n",
      "                  N            P            K  Temperature     Humidity  \\\n",
      "count  2200.000000  2200.000000  2200.000000  2200.000000  2200.000000   \n",
      "mean     50.551818    53.362727    48.149091    25.616244    71.481779   \n",
      "std      36.917334    32.985883    50.647931     5.063749    22.263812   \n",
      "min       0.000000     5.000000     5.000000     8.825675    14.258040   \n",
      "25%      21.000000    28.000000    20.000000    22.769375    60.261953   \n",
      "50%      37.000000    51.000000    32.000000    25.598693    80.473146   \n",
      "75%      84.250000    68.000000    49.000000    28.561654    89.948771   \n",
      "max     140.000000   145.000000   205.000000    43.675493    99.981876   \n",
      "\n",
      "                Ph     Rainfall  \n",
      "count  2200.000000  2200.000000  \n",
      "mean      6.469480   103.463655  \n",
      "std       0.773938    54.958389  \n",
      "min       3.504752    20.211267  \n",
      "25%       5.971693    64.551686  \n",
      "50%       6.425045    94.867624  \n",
      "75%       6.923643   124.267508  \n",
      "max       9.935091   298.560117  \n"
     ]
    }
   ],
   "source": [
    "# Summary statistics\n",
    "print('Crop Dataset Description:\\n', crop_df.describe())\n",
    "print('\\nFertiliser Dataset Description:\\n', fertiliser_df.describe())"
   ]
  },
  {
   "cell_type": "code",
   "execution_count": null,
   "id": "af071dc8-bd68-4fa2-8828-8c080958db2c",
   "metadata": {},
   "outputs": [],
   "source": []
  }
 ],
 "metadata": {
  "kernelspec": {
   "display_name": "Python 3 (ipykernel)",
   "language": "python",
   "name": "python3"
  },
  "language_info": {
   "codemirror_mode": {
    "name": "ipython",
    "version": 3
   },
   "file_extension": ".py",
   "mimetype": "text/x-python",
   "name": "python",
   "nbconvert_exporter": "python",
   "pygments_lexer": "ipython3",
   "version": "3.13.3"
  }
 },
 "nbformat": 4,
 "nbformat_minor": 5
}
